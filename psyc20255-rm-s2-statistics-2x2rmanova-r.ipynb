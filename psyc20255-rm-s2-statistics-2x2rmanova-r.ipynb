{
 "cells": [
  {
   "cell_type": "markdown",
   "metadata": {},
   "source": [
    "# Repeated-measures ANOVA with two within-subject factors\n",
    "\n",
    "Based on [Breska & Deouell (2017)](https://journals.plos.org/plosbiology/article?id=10.1371/journal.pbio.2001665).\n",
    "\n",
    "This is an R notebook based on what I used to simulate the data and generate the figures for Experiment 2 in my lecture on multi-way ANOVA. To run the code, click on each block (a \"cell\") of code and click the \"play\" button near the top of the page. There is also a button at the top of the page to run all of the cells (the two right arrows, or \"fast-forward icon\", at the top).\n",
    "\n",
    "*Written with the help of Microsoft Copilot and Claude Haiku.*"
   ]
  },
  {
   "cell_type": "code",
   "execution_count": null,
   "metadata": {
    "_execution_state": "idle",
    "_uuid": "051d70d956493feee0c6d64651c6a088724dca2a",
    "execution": {
     "iopub.execute_input": "2024-11-22T17:45:30.049362Z",
     "iopub.status.busy": "2024-11-22T17:45:30.047266Z",
     "iopub.status.idle": "2024-11-22T17:45:30.076573Z",
     "shell.execute_reply": "2024-11-22T17:45:30.073477Z"
    },
    "trusted": true,
    "vscode": {
     "languageId": "r"
    }
   },
   "outputs": [],
   "source": [
    "# Load necessary libraries\n",
    "library(tidyverse)\n",
    "library(afex)\n",
    "library(emmeans)\n",
    "\n",
    "# Increase plot size\n",
    "options(repr.plot.width=12, repr.plot.height=7)"
   ]
  },
  {
   "cell_type": "markdown",
   "metadata": {},
   "source": [
    "### Generate the data"
   ]
  },
  {
   "cell_type": "code",
   "execution_count": null,
   "metadata": {
    "execution": {
     "iopub.execute_input": "2024-11-22T17:39:00.586525Z",
     "iopub.status.busy": "2024-11-22T17:39:00.551391Z",
     "iopub.status.idle": "2024-11-22T17:39:00.690564Z",
     "shell.execute_reply": "2024-11-22T17:39:00.688810Z"
    },
    "trusted": true,
    "vscode": {
     "languageId": "r"
    }
   },
   "outputs": [],
   "source": [
    "# Set seed for reproducibility\n",
    "#set.seed(42)\n",
    "\n",
    "# Number of subjects and levels (conditions)\n",
    "n_subjects <- 21\n",
    "targets <- c('Valid', 'Invalid')\n",
    "n_targets <- length(targets)\n",
    "temporal <- c('Rhythmic','Random')\n",
    "n_temporal <- length(temporal)\n",
    "\n",
    "# Mean values and standard deviation for each level\n",
    "means <- array(c(225, 295, 280, 300), dim=c(2,2))\n",
    "std_dev_sbj <- 115 # standard deviation across participants\n",
    "std_dev_wthn <- 40 # standard deviation within participants\n",
    "\n",
    "# Initialize empty data frame to store results\n",
    "df <- data.frame(\n",
    "  Subject = numeric(),\n",
    "  Temporal = character(),\n",
    "  Target = character(),\n",
    "  Response_time = numeric()\n",
    ")\n",
    "\n",
    "# Simulate data\n",
    "for (subject in 1:n_subjects) {\n",
    "  sbj_avg <- rnorm(1, mean = 0, sd = std_dev_sbj)\n",
    "  for (trg in 1:n_targets) {\n",
    "      for (tmp in 1:n_temporal) {\n",
    "        value <- rnorm(1, mean = means[trg,tmp], sd = std_dev_wthn)\n",
    "        value <- value + sbj_avg\n",
    "\n",
    "        # Add row to data frame\n",
    "        df <- rbind(df, data.frame(\n",
    "          Subject = subject,\n",
    "          Temporal = temporal[tmp],\n",
    "          Target = targets[trg],\n",
    "          Response_time = value\n",
    "        ))\n",
    "      }\n",
    "  }\n",
    "}\n",
    "\n",
    "glimpse(df)"
   ]
  },
  {
   "cell_type": "code",
   "execution_count": null,
   "metadata": {
    "execution": {
     "iopub.execute_input": "2024-11-22T17:39:04.781178Z",
     "iopub.status.busy": "2024-11-22T17:39:04.779256Z",
     "iopub.status.idle": "2024-11-22T17:39:05.645518Z",
     "shell.execute_reply": "2024-11-22T17:39:05.642289Z"
    },
    "trusted": true,
    "vscode": {
     "languageId": "r"
    }
   },
   "outputs": [],
   "source": [
    "# Plot the data\n",
    "ggplot(df, aes(x = Target, y = Response_time, group = Subject)) +\n",
    "  geom_line(aes(color = Subject)) +\n",
    "  geom_point() +\n",
    "  facet_wrap(~ Temporal)\n",
    "  labs(x = \"Target\", y = \"Response time (ms)\") +\n",
    "  theme_grey(base_size=20)"
   ]
  },
  {
   "cell_type": "code",
   "execution_count": null,
   "metadata": {
    "execution": {
     "iopub.execute_input": "2024-11-22T18:04:00.025282Z",
     "iopub.status.busy": "2024-11-22T18:04:00.023619Z",
     "iopub.status.idle": "2024-11-22T18:04:00.419313Z",
     "shell.execute_reply": "2024-11-22T18:04:00.416446Z"
    },
    "trusted": true,
    "vscode": {
     "languageId": "r"
    }
   },
   "outputs": [],
   "source": [
    "# Use tukeyboxplot\n",
    "ggplot(data=df, aes(x = Temporal, y = Response_time, fill = Target)) +\n",
    "    geom_boxplot() +\n",
    "    geom_jitter(position=position_jitterdodge(jitter.width=0.1, dodge.width=0.8)) +\n",
    "    theme_grey(base_size=20)"
   ]
  },
  {
   "cell_type": "markdown",
   "metadata": {},
   "source": [
    "### Run the repeated-measures ANOVA"
   ]
  },
  {
   "cell_type": "code",
   "execution_count": null,
   "metadata": {
    "execution": {
     "iopub.execute_input": "2024-11-22T18:06:48.229173Z",
     "iopub.status.busy": "2024-11-22T18:06:48.226978Z",
     "iopub.status.idle": "2024-11-22T18:06:48.318194Z",
     "shell.execute_reply": "2024-11-22T18:06:48.316042Z"
    },
    "trusted": true,
    "vscode": {
     "languageId": "r"
    }
   },
   "outputs": [],
   "source": [
    "# Run the repeated-measures ANOVA\n",
    "anova_results <- aov_car(Response_time ~ Error(Subject/(Temporal * Target)), data=df)\n",
    "summary_aov <- summary(anova_results)\n",
    "summary_aov"
   ]
  },
  {
   "cell_type": "code",
   "execution_count": null,
   "metadata": {
    "execution": {
     "iopub.execute_input": "2024-11-22T18:06:52.414419Z",
     "iopub.status.busy": "2024-11-22T18:06:52.412584Z",
     "iopub.status.idle": "2024-11-22T18:06:52.433990Z",
     "shell.execute_reply": "2024-11-22T18:06:52.432260Z"
    },
    "trusted": true,
    "vscode": {
     "languageId": "r"
    }
   },
   "outputs": [],
   "source": [
    "anova_results"
   ]
  },
  {
   "cell_type": "code",
   "execution_count": null,
   "metadata": {
    "execution": {
     "iopub.execute_input": "2024-11-22T18:06:55.305109Z",
     "iopub.status.busy": "2024-11-22T18:06:55.303189Z",
     "iopub.status.idle": "2024-11-22T18:06:55.340272Z",
     "shell.execute_reply": "2024-11-22T18:06:55.338313Z"
    },
    "trusted": true,
    "vscode": {
     "languageId": "r"
    }
   },
   "outputs": [],
   "source": [
    "# Calculate the between-subjects sum-of-squares\n",
    "SS_total <- sum((df$Response_time - mean(df$Response_time))^2)\n",
    "    # This will be different than what you see in the ANOVA table above. \n",
    "    # R displays the sum-of-squares without subtracting the mean. \n",
    "    # Calculating the total SS centered on the mean is more standard.\n",
    "sbj_mean <- aggregate(Response_time ~ Subject, df, mean)\n",
    "SS_sbj <- sum((sbj_mean$Response_time - mean(df$Response_time))^2) * n_targets * n_temporal\n",
    "SS_within <- SS_total - SS_sbj\n",
    "\n",
    "cat(sprintf(\"Total SS = %.2f\\n\", SS_total))\n",
    "cat(sprintf(\"Between-subject SS = %.2f\\n\", SS_sbj))\n",
    "cat(sprintf(\"Within-subject SS = %.2f\\n\", SS_within))"
   ]
  },
  {
   "cell_type": "markdown",
   "metadata": {},
   "source": [
    "### Multiple comparisons"
   ]
  },
  {
   "cell_type": "code",
   "execution_count": null,
   "metadata": {
    "execution": {
     "iopub.execute_input": "2024-11-22T18:09:46.716948Z",
     "iopub.status.busy": "2024-11-22T18:09:46.715018Z",
     "iopub.status.idle": "2024-11-22T18:09:46.875914Z",
     "shell.execute_reply": "2024-11-22T18:09:46.874058Z"
    },
    "scrolled": true,
    "trusted": true,
    "vscode": {
     "languageId": "r"
    }
   },
   "outputs": [],
   "source": [
    "# Multiple comparisons test with emmeans\n",
    "emmeans_results <- emmeans(anova_results, specs = pairwise ~ Target|Temporal, adj='bonf')\n",
    "print(emmeans_results$contrasts)"
   ]
  }
 ],
 "metadata": {
  "kaggle": {
   "accelerator": "none",
   "dataSources": [],
   "dockerImageVersionId": 30749,
   "isGpuEnabled": false,
   "isInternetEnabled": true,
   "language": "r",
   "sourceType": "notebook"
  },
  "kernelspec": {
   "display_name": "R",
   "language": "R",
   "name": "ir"
  },
  "language_info": {
   "codemirror_mode": "r",
   "file_extension": ".r",
   "mimetype": "text/x-r-source",
   "name": "R",
   "pygments_lexer": "r",
   "version": "4.4.0"
  }
 },
 "nbformat": 4,
 "nbformat_minor": 4
}
