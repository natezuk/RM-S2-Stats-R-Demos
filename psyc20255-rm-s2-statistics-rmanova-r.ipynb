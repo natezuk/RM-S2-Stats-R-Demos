{
 "cells": [
  {
   "cell_type": "markdown",
   "metadata": {},
   "source": [
    "## R Notebook for repeated-measures ANOVA lecture\n",
    "\n",
    "Based on [Crosse et al (2015)](https://www.jneurosci.org/content/35/42/14195.short)\n",
    "\n",
    "This is an R notebook based on what I used to simulate the data and generate the figures for my lecture on repeated-measures ANOVA. To run the code, click on each block (a \"cell\") of code and click the \"play\" button near the top of the page. There is also a button at the top of the page to run all of the cells (the two right arrows, or \"fast-forward icon\", at the top).\n",
    "\n",
    "*I originally wrote this script in [Python](https://mybinder.org/v2/gh/natezuk/RM-S2-Stats-Demos/b55130f298fb6f07e55bc51aa58085637571ec0a?urlpath=lab%2Ftree%2Fpsyc20255-rm-s2-statistics-rmanova.ipynb), but I converted it into R with the help of Microsoft Copilot and Claude 3.5 Sonnet.*\n"
   ]
  },
  {
   "cell_type": "code",
   "execution_count": null,
   "metadata": {
    "trusted": true,
    "vscode": {
     "languageId": "r"
    }
   },
   "outputs": [],
   "source": [
    "# Load necessary libraries\n",
    "library(tidyverse)\n",
    "library(reshape2)\n",
    "library(afex)\n",
    "library(emmeans)\n",
    "library(patchwork)\n",
    "library(car)\n",
    "\n",
    "# Increase plot size\n",
    "options(repr.plot.width=12, repr.plot.height=7)"
   ]
  },
  {
   "cell_type": "markdown",
   "metadata": {},
   "source": [
    "### Generate the data"
   ]
  },
  {
   "cell_type": "code",
   "execution_count": null,
   "metadata": {
    "trusted": true,
    "vscode": {
     "languageId": "r"
    }
   },
   "outputs": [],
   "source": [
    "# Set seed for reproducibility\n",
    "#set.seed(42)\n",
    "\n",
    "# Number of subjects and levels (conditions)\n",
    "n_subjects <- 20\n",
    "levels <- c('AV', 'A', 'V')\n",
    "n_levels <- length(levels)\n",
    "\n",
    "# Mean values and standard deviation for each level\n",
    "means <- c(600, 650, 800)\n",
    "std_dev_sbj <- 100 # standard deviation across participants\n",
    "std_dev_wthn <- 30 # standard deviation within participants\n",
    "\n",
    "# Initialize empty data frame to store results\n",
    "df <- data.frame(\n",
    "  Subject = numeric(),\n",
    "  Condition = character(),\n",
    "  Response_time = numeric()\n",
    ")\n",
    "\n",
    "# Simulate data\n",
    "for (subject in 1:n_subjects) {\n",
    "  sbj_avg <- rnorm(1, mean = 0, sd = std_dev_sbj)\n",
    "  for (level in 1:n_levels) {\n",
    "    value <- rnorm(1, mean = means[level], sd = std_dev_wthn)\n",
    "    value <- value + sbj_avg\n",
    "    \n",
    "    # Add row to data frame\n",
    "    df <- rbind(df, data.frame(\n",
    "      Subject = subject,\n",
    "      Condition = levels[level],\n",
    "      Response_time = value\n",
    "    ))\n",
    "  }\n",
    "}\n",
    "\n",
    "glimpse(df)"
   ]
  },
  {
   "cell_type": "markdown",
   "metadata": {},
   "source": [
    "### Plot the data"
   ]
  },
  {
   "cell_type": "code",
   "execution_count": null,
   "metadata": {
    "trusted": true,
    "vscode": {
     "languageId": "r"
    }
   },
   "outputs": [],
   "source": [
    "# Plot the data\n",
    "ggplot(df, aes(x = Condition, y = Response_time, group = Subject)) +\n",
    "  geom_line(aes(color = Subject)) +\n",
    "  geom_point() +\n",
    "  labs(title = \"Response time to target word\", x = \"Condition\", y = \"Response time (ms)\") +\n",
    "  theme_grey(base_size=20)"
   ]
  },
  {
   "cell_type": "markdown",
   "metadata": {},
   "source": [
    "### Run the repeated measures ANOVA"
   ]
  },
  {
   "cell_type": "code",
   "execution_count": null,
   "metadata": {
    "trusted": true,
    "vscode": {
     "languageId": "r"
    }
   },
   "outputs": [],
   "source": [
    "# Run the repeated-measures ANOVA\n",
    "anova_results <- aov_car(Response_time ~ Error(Subject/Condition), data=df)\n",
    "summary_aov <- summary(anova_results)\n",
    "summary_aov"
   ]
  },
  {
   "cell_type": "code",
   "execution_count": null,
   "metadata": {
    "trusted": true,
    "vscode": {
     "languageId": "r"
    }
   },
   "outputs": [],
   "source": [
    "# Get and display the main information for the within-subjects effect\n",
    "univar_anova <- summary_aov$univariate.tests\n",
    "dof1 <- univar_anova[2,'num Df']\n",
    "dof2 <- univar_anova[2,'den Df']\n",
    "Fstat <- univar_anova[2,'F value']\n",
    "pval <- univar_anova[2,'Pr(>F)']\n",
    "ges <- anova_results$anova_table[1,'ges']\n",
    "\n",
    "cat(sprintf(\"Degrees of freedom = (%.0f,%.0f)\\n\", dof1, dof2))\n",
    "cat(sprintf(\"F-statistic = %.2f\\n\", Fstat))\n",
    "cat(sprintf(\"pval = %.3f\\n\", pval))\n",
    "cat(sprintf(\"ges = %.3f\\n\", ges))"
   ]
  },
  {
   "cell_type": "code",
   "execution_count": null,
   "metadata": {
    "trusted": true,
    "vscode": {
     "languageId": "r"
    }
   },
   "outputs": [],
   "source": [
    "# Calculate the between-subjects sum-of-squares\n",
    "SS_total <- sum((df$Response_time - mean(df$Response_time))^2)\n",
    "    # This will be different than what you see in the ANOVA table above. \n",
    "    # R displays the sum-of-squares without subtracting the mean. \n",
    "    # Calculating the total SS centered on the mean is more standard.\n",
    "sbj_mean <- aggregate(Response_time ~ Subject, df, mean)\n",
    "SS_sbj <- sum((sbj_mean$Response_time - mean(df$Response_time))^2) * n_levels\n",
    "SS_within <- SS_total - SS_sbj\n",
    "\n",
    "cat(sprintf(\"Total SS = %.2f\\n\", SS_total))\n",
    "cat(sprintf(\"Between-subject SS = %.2f\\n\", SS_sbj))\n",
    "cat(sprintf(\"Within-subject SS = %.2f\\n\", SS_within))"
   ]
  },
  {
   "cell_type": "markdown",
   "metadata": {},
   "source": [
    "### Demonstration of calculating the p-value"
   ]
  },
  {
   "cell_type": "code",
   "execution_count": null,
   "metadata": {
    "trusted": true,
    "vscode": {
     "languageId": "r"
    }
   },
   "outputs": [],
   "source": [
    "# Plot the F-distribution\n",
    "x <- seq(0, 500, length.out = 1000)\n",
    "y <- df(x, dof1, dof2)\n",
    "\n",
    "plot(x, y, type = \"l\", main = sprintf(\"F-distribution (%.0f, %.0f)\", dof1, dof2), \n",
    "     xlab = \"F value\", ylab = \"Probability density\", log=\"y\")\n",
    "abline(v = Fstat, col = \"red\", lty = 2)\n",
    "polygon(c(Fstat, x[x >= Fstat]), c(min(y[y>0]), y[x >= Fstat]), col = \"gray\", border = NA)\n",
    "legend(\"topright\", legend = sprintf(\"F-statistic = %.1f\", Fstat), col = \"red\", lty = 2)"
   ]
  },
  {
   "cell_type": "markdown",
   "metadata": {},
   "source": [
    "### Sphericity"
   ]
  },
  {
   "cell_type": "code",
   "execution_count": null,
   "metadata": {
    "trusted": true,
    "vscode": {
     "languageId": "r"
    }
   },
   "outputs": [],
   "source": [
    "# Reshape data from long to wide format\n",
    "paired_cond <- pivot_wider(df, \n",
    "                          id_cols = Subject, \n",
    "                          names_from = Condition, \n",
    "                          values_from = Response_time)\n",
    "\n",
    "# Create the three scatter plots with regression lines\n",
    "p1 <- ggplot(paired_cond, aes(x = A, y = V)) +\n",
    "  geom_point() +\n",
    "  geom_smooth(method = \"lm\", se = TRUE) +\n",
    "  xlim(400, 1000) +\n",
    "  ylim(400, 1000) +\n",
    "  theme_gray(base_size=20)\n",
    "\n",
    "p2 <- ggplot(paired_cond, aes(x = AV, y = V)) +\n",
    "  geom_point() +\n",
    "  geom_smooth(method = \"lm\", se = TRUE) +\n",
    "  xlim(400, 1000) +\n",
    "  ylim(400, 1000) +\n",
    "  theme_gray(base_size=20)\n",
    "\n",
    "p3 <- ggplot(paired_cond, aes(x = AV, y = A)) +\n",
    "  geom_point() +\n",
    "  geom_smooth(method = \"lm\", se = TRUE) +\n",
    "  xlim(400, 1000) +\n",
    "  ylim(400, 1000) +\n",
    "  theme_gray(base_size=20)\n",
    "\n",
    "# Combine plots side by side\n",
    "p1 + p2 + p3"
   ]
  },
  {
   "cell_type": "code",
   "execution_count": null,
   "metadata": {
    "trusted": true,
    "vscode": {
     "languageId": "r"
    }
   },
   "outputs": [],
   "source": [
    "# Variability in the difference between conditions\n",
    "diff_cond <- data.frame(\n",
    "  `V-A` = paired_cond$V - paired_cond$A,\n",
    "  `V-AV` = paired_cond$V - paired_cond$AV,\n",
    "  `A-AV` = paired_cond$A - paired_cond$AV\n",
    ")\n",
    "print(diff_cond)\n",
    "# This automatically changes the minus signs to ., - is not allowed here"
   ]
  },
  {
   "cell_type": "code",
   "execution_count": null,
   "metadata": {
    "trusted": true,
    "vscode": {
     "languageId": "r"
    }
   },
   "outputs": [],
   "source": [
    "# Plot the difference between conditions with a box-whisker plot\n",
    "ggplot(melt(diff_cond), aes(x = variable, y = value)) +\n",
    "  geom_boxplot() +\n",
    "  geom_jitter(width = 0.2) +\n",
    "  labs(x = \"Condition pairs\", y = \"Difference in response time\") +\n",
    "  theme_gray(base_size=20)"
   ]
  },
  {
   "cell_type": "code",
   "execution_count": null,
   "metadata": {
    "execution": {
     "iopub.execute_input": "2024-11-16T12:48:07.401360Z",
     "iopub.status.busy": "2024-11-16T12:48:07.399586Z",
     "iopub.status.idle": "2024-11-16T12:48:07.418258Z"
    },
    "trusted": false,
    "vscode": {
     "languageId": "r"
    }
   },
   "outputs": [],
   "source": [
    "# Mauchly's test for sphericity\n",
    "sphericity_test <- summary_aov$sphericity.tests\n",
    "cat(sprintf(\"Mauchly's sphericity test: W = %.3f, p = %.3f\",\n",
    "           sphericity_test[1,'Test statistic'],sphericity_test[1,'p-value']))"
   ]
  },
  {
   "cell_type": "markdown",
   "metadata": {},
   "source": [
    "### Multiple comparisons"
   ]
  },
  {
   "cell_type": "code",
   "execution_count": null,
   "metadata": {
    "execution": {
     "iopub.execute_input": "2024-11-16T12:49:51.888737Z",
     "iopub.status.busy": "2024-11-16T12:49:51.886677Z",
     "iopub.status.idle": "2024-11-16T12:49:52.014953Z"
    },
    "trusted": false,
    "vscode": {
     "languageId": "r"
    }
   },
   "outputs": [],
   "source": [
    "# Multiple comparisons\n",
    "emmeans_results <- emmeans(anova_results, pairwise ~ Condition, adjust=\"bonf\")\n",
    "print(emmeans_results$contrasts)"
   ]
  }
 ],
 "metadata": {
  "kaggle": {
   "accelerator": "none",
   "dataSources": [],
   "dockerImageVersionId": 30749,
   "isGpuEnabled": false,
   "isInternetEnabled": true,
   "language": "r",
   "sourceType": "notebook"
  },
  "kernelspec": {
   "display_name": "R",
   "language": "R",
   "name": "ir"
  },
  "language_info": {
   "codemirror_mode": "r",
   "file_extension": ".r",
   "mimetype": "text/x-r-source",
   "name": "R",
   "pygments_lexer": "r",
   "version": "4.3.3"
  }
 },
 "nbformat": 4,
 "nbformat_minor": 4
}
