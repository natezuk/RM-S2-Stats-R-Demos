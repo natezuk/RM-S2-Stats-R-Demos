{
 "cells": [
  {
   "cell_type": "markdown",
   "metadata": {},
   "source": [
    "# Mixed ANOVA\n",
    "\n",
    "Based on [McDermott et al (2016)](https://www.nature.com/articles/nature18635).\n",
    "\n",
    "This is an R notebook based on what I used to simulate the data and generate the figures for Experiment 1 on multi-way ANOVA. To run the code, click on each block (a \"cell\") of code and click the \"play\" button near the top of the page. There is also a button at the top of the page to run all of the cells (the two right arrows, or \"fast-forward icon\", at the top).\n",
    "\n",
    "*Written with the help of Microsoft Copilot and Claude Haiku.*"
   ]
  },
  {
   "cell_type": "code",
   "execution_count": null,
   "metadata": {
    "_execution_state": "idle",
    "_uuid": "051d70d956493feee0c6d64651c6a088724dca2a",
    "execution": {
     "iopub.execute_input": "2024-11-22T18:22:19.716990Z",
     "iopub.status.busy": "2024-11-22T18:22:19.714591Z",
     "iopub.status.idle": "2024-11-22T18:22:22.926747Z",
     "shell.execute_reply": "2024-11-22T18:22:22.924927Z"
    },
    "trusted": true,
    "vscode": {
     "languageId": "r"
    }
   },
   "outputs": [],
   "source": [
    "# Load necessary libraries\n",
    "library(tidyverse)\n",
    "library(afex)\n",
    "library(emmeans)\n",
    "\n",
    "# Increase plot size\n",
    "options(repr.plot.width=12, repr.plot.height=7)"
   ]
  },
  {
   "cell_type": "markdown",
   "metadata": {},
   "source": [
    "### Generate the data"
   ]
  },
  {
   "cell_type": "code",
   "execution_count": null,
   "metadata": {
    "execution": {
     "iopub.execute_input": "2024-11-22T18:41:43.214840Z",
     "iopub.status.busy": "2024-11-22T18:41:43.213230Z",
     "iopub.status.idle": "2024-11-22T18:41:43.385671Z",
     "shell.execute_reply": "2024-11-22T18:41:43.383170Z"
    },
    "trusted": true,
    "vscode": {
     "languageId": "r"
    }
   },
   "outputs": [],
   "source": [
    "# Set seed for reproducibility\n",
    "#set.seed(42)\n",
    "\n",
    "# Number of subjects and levels (conditions)\n",
    "n_subjects <- c(47,50) # Number of US and Tsimane respectively\n",
    "groups <- c('US', 'Tsimane')\n",
    "n_groups <- length(groups)\n",
    "chords <- c('Consonant','Dissonant')\n",
    "n_chords <- length(chords)\n",
    "\n",
    "# Mean values and standard deviation for each level\n",
    "means <- array(c(2.9, 2, 3, 3), dim=c(2,2)) # rows are Chord, columns are Group\n",
    "std_dev_sbj <- 0.5 # standard deviation across participants\n",
    "std_dev_wthn <- 0.3 # standard deviation within participants\n",
    "\n",
    "# Initialize empty data frame to store results\n",
    "df <- data.frame(\n",
    "  Subject = numeric(),\n",
    "  Group = character(),\n",
    "  Chord = character(),\n",
    "  Pleasantness = numeric()\n",
    ")\n",
    "\n",
    "# Simulate data\n",
    "for (subject in 1:sum(n_subjects)) {\n",
    "  sbj_avg <- rnorm(1, mean = 0, sd = std_dev_sbj)\n",
    "  if (subject>n_subjects[1]) { # identify the appropriate group based on the subject ID\n",
    "      grp = 2\n",
    "  } else {\n",
    "      grp = 1\n",
    "  }\n",
    "  for (crd in 1:n_chords) {\n",
    "    value <- rnorm(1, mean = means[crd,grp], sd = std_dev_wthn)\n",
    "    value <- value + sbj_avg\n",
    "\n",
    "    # Add row to data frame\n",
    "    df <- rbind(df, data.frame(\n",
    "      Subject = subject,\n",
    "      Group = groups[grp],\n",
    "      Chord = chords[crd],\n",
    "      Pleasantness = value\n",
    "    ))\n",
    "  }\n",
    "}\n",
    "\n",
    "glimpse(df)"
   ]
  },
  {
   "cell_type": "code",
   "execution_count": null,
   "metadata": {
    "execution": {
     "iopub.execute_input": "2024-11-22T18:46:35.689459Z",
     "iopub.status.busy": "2024-11-22T18:46:35.687804Z",
     "iopub.status.idle": "2024-11-22T18:46:36.246209Z",
     "shell.execute_reply": "2024-11-22T18:46:36.243513Z"
    },
    "trusted": true,
    "vscode": {
     "languageId": "r"
    }
   },
   "outputs": [],
   "source": [
    "# Plot the data\n",
    "ggplot(df, aes(x = Chord, y = Pleasantness, group = Subject)) +\n",
    "  geom_line(aes(color = Subject)) +\n",
    "  geom_point() +\n",
    "  facet_wrap(~ Group) +\n",
    "  labs(x = \"Chord\", y = \"Pleasantness\") +\n",
    "  theme_grey(base_size=20)"
   ]
  },
  {
   "cell_type": "code",
   "execution_count": null,
   "metadata": {
    "execution": {
     "iopub.execute_input": "2024-11-22T18:43:27.353421Z",
     "iopub.status.busy": "2024-11-22T18:43:27.351754Z",
     "iopub.status.idle": "2024-11-22T18:43:27.738559Z",
     "shell.execute_reply": "2024-11-22T18:43:27.735605Z"
    },
    "trusted": true,
    "vscode": {
     "languageId": "r"
    }
   },
   "outputs": [],
   "source": [
    "# Calculate mean and standard error\n",
    "data_summary <- df %>%\n",
    "  group_by(Chord, Group) %>%\n",
    "  summarize(\n",
    "    mean = mean(Pleasantness),\n",
    "    se = sd(Pleasantness) / sqrt(n())\n",
    "  )\n",
    "\n",
    "# Use a line plot with error bars to show the averages\n",
    "ggplot(data_summary, aes(x = Chord, y = mean, group = Group)) +\n",
    "    geom_line(aes(color = Group)) +\n",
    "    geom_point(aes(color = Group)) +\n",
    "    geom_errorbar(aes(ymin=mean-se, ymax=mean+se, color=Group), width=0.2) +\n",
    "    labs(y=\"Pleasantness\") +\n",
    "    theme_grey(base_size=20)"
   ]
  },
  {
   "cell_type": "markdown",
   "metadata": {},
   "source": [
    "### Run the mixed ANOVA"
   ]
  },
  {
   "cell_type": "code",
   "execution_count": null,
   "metadata": {
    "execution": {
     "iopub.execute_input": "2024-11-22T18:44:16.087704Z",
     "iopub.status.busy": "2024-11-22T18:44:16.085584Z",
     "iopub.status.idle": "2024-11-22T18:44:16.179377Z",
     "shell.execute_reply": "2024-11-22T18:44:16.176865Z"
    },
    "trusted": true,
    "vscode": {
     "languageId": "r"
    }
   },
   "outputs": [],
   "source": [
    "# Run the mixed ANOVA (also uses aov_car but with a different model formula)\n",
    "anova_results <- aov_car(Pleasantness ~ Group + Error(Subject/Chord), data=df)\n",
    "summary_aov <- summary(anova_results)\n",
    "summary_aov"
   ]
  },
  {
   "cell_type": "code",
   "execution_count": null,
   "metadata": {
    "execution": {
     "iopub.execute_input": "2024-11-22T18:45:24.863691Z",
     "iopub.status.busy": "2024-11-22T18:45:24.861998Z",
     "iopub.status.idle": "2024-11-22T18:45:24.883697Z",
     "shell.execute_reply": "2024-11-22T18:45:24.881992Z"
    },
    "trusted": true,
    "vscode": {
     "languageId": "r"
    }
   },
   "outputs": [],
   "source": [
    "anova_results"
   ]
  },
  {
   "cell_type": "markdown",
   "metadata": {},
   "source": [
    "### Multiple comparisons"
   ]
  },
  {
   "cell_type": "code",
   "execution_count": null,
   "metadata": {
    "execution": {
     "iopub.execute_input": "2024-11-22T18:46:01.803593Z",
     "iopub.status.busy": "2024-11-22T18:46:01.801979Z",
     "iopub.status.idle": "2024-11-22T18:46:01.964174Z",
     "shell.execute_reply": "2024-11-22T18:46:01.962525Z"
    },
    "trusted": true,
    "vscode": {
     "languageId": "r"
    }
   },
   "outputs": [],
   "source": [
    "# Multiple comparisons test with emmeans\n",
    "emmeans_results <- emmeans(anova_results, specs = pairwise ~ Chord|Group, adj='bonf')\n",
    "print(emmeans_results$contrasts)"
   ]
  }
 ],
 "metadata": {
  "kaggle": {
   "accelerator": "none",
   "dataSources": [],
   "dockerImageVersionId": 30749,
   "isGpuEnabled": false,
   "isInternetEnabled": true,
   "language": "r",
   "sourceType": "notebook"
  },
  "kernelspec": {
   "display_name": "R",
   "language": "R",
   "name": "ir"
  },
  "language_info": {
   "codemirror_mode": "r",
   "file_extension": ".r",
   "mimetype": "text/x-r-source",
   "name": "R",
   "pygments_lexer": "r",
   "version": "4.4.0"
  }
 },
 "nbformat": 4,
 "nbformat_minor": 4
}
